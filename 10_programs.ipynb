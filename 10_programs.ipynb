{
 "cells": [
  {
   "cell_type": "markdown",
   "metadata": {},
   "source": [
    "Given a string consist of uppercase and lowercase characters.The task is to sort the letters, separately such that ith place in the original string and in the new string should be uppercase letter only.<br>\n",
    "Ex: Input:  defRTSereUXI<br>\n",
    "    Output:deeIRSefrTUX\n"
   ]
  },
  {
   "cell_type": "code",
   "execution_count": 9,
   "metadata": {},
   "outputs": [
    {
     "name": "stdout",
     "output_type": "stream",
     "text": [
      "ayAFzH\n"
     ]
    }
   ],
   "source": [
    "x = list(input())\n",
    "x1 = iter(sorted(filter(lambda x: x.isupper(), x)))\n",
    "x2 = iter(sorted(filter(lambda x: x.islower(), x)))\n",
    "print(''.join([next(x1) if i.isupper() else next(x2) for i in x]))"
   ]
  },
  {
   "cell_type": "markdown",
   "metadata": {},
   "source": [
    "Write a Python program to get a single string from two given strings, separated by a space and swap the first two characters of each string.<br>\n",
    "Ex: Input : ‘abc’, 'xyz'<br>\n",
    "    Output : 'xyc abz'\n"
   ]
  },
  {
   "cell_type": "code",
   "execution_count": 10,
   "metadata": {},
   "outputs": [
    {
     "name": "stdout",
     "output_type": "stream",
     "text": [
      "xycabz\n"
     ]
    }
   ],
   "source": [
    "x,y=input().split()\n",
    "print((y[:2]+x[-1])+(x[:2]+y[-1]))"
   ]
  },
  {
   "cell_type": "markdown",
   "metadata": {},
   "source": [
    "Write a python program to print  all disarium numbers between a given range.\n",
    "<br>Ex: 11+ 72 + 53 = 1+ 49 + 125 = 175\n"
   ]
  },
  {
   "cell_type": "code",
   "execution_count": 8,
   "metadata": {},
   "outputs": [
    {
     "name": "stdout",
     "output_type": "stream",
     "text": [
      "89\n",
      "135\n",
      "175\n",
      "518\n",
      "598\n",
      "1306\n",
      "1676\n"
     ]
    }
   ],
   "source": [
    "for i in range(int(input('enter lower limit: ')),\\\n",
    "    int(input('enter upper limit: '))+1):\n",
    "    j,s=list(str(i)),0\n",
    "    for k in range(len(j)): s+=int(j[k])**(k+1)\n",
    "    if s==i: print(i)"
   ]
  },
  {
   "cell_type": "markdown",
   "metadata": {},
   "source": [
    "Write a Python program to rearrange a given Set of elements such that every second element of the array is greater than its left and right elements.    Example:<br>\n",
    "Input : nums= { 1, 2, 4, 9, 5, 3, 8, 7, 10, 12, 14 }\n",
    "<br>Output: Array with every second element is greater than its left and right elements: [1, 4, 2, 9, 3, 8, 5, 10, 7, 14, 12]\n"
   ]
  },
  {
   "cell_type": "code",
   "execution_count": 6,
   "metadata": {},
   "outputs": [
    {
     "name": "stdout",
     "output_type": "stream",
     "text": [
      "[1, 4, 2, 9, 3, 8, 5, 10, 7, 14, 12]\n"
     ]
    }
   ],
   "source": [
    "l=[eval(x) for x in input().split()]\n",
    "for i in range(1,len(l),2):\n",
    "    if l[i-1]>l[i]: l[i],l[i-1]=l[i-1],l[i]\n",
    "    if l[i+1]>l[i]: l[i],l[i+1]=l[i+1],l[i]\n",
    "print(l)"
   ]
  },
  {
   "cell_type": "markdown",
   "metadata": {},
   "source": [
    "Write a Python program to find all triplets equal to a given sum in a unsorted set of elements.    Example:\n",
    "Input :<br>\n",
    "nums = { 1, 6, 3, 0, 8, 4, 1, 7 }\n",
    "<br>Output:\n",
    "<br>Triplets of sum 7\n",
    "<br>(0 1 6)\n",
    "<br>(0 3 4)\n"
   ]
  },
  {
   "cell_type": "code",
   "execution_count": 8,
   "metadata": {},
   "outputs": [
    {
     "name": "stdout",
     "output_type": "stream",
     "text": [
      "[0, 1, 6] [0, 3, 4]\n"
     ]
    }
   ],
   "source": [
    "l,t,n,l1=[eval(x) for x in input().split()],7,len(l),[]\n",
    "for i in range(n-1):\n",
    "    for j in range(i+1,n-1):\n",
    "        if (t-(l[i]+l[j])) in l[j+1:] and \\\n",
    "            sorted([l[i],l[j],t-(l[i]+l[j])]) not in l1:\n",
    "            l1.append(sorted([l[i],l[j],t-(l[i]+l[j])]))\n",
    "print(*l1)"
   ]
  },
  {
   "cell_type": "markdown",
   "metadata": {},
   "source": [
    "Write a Python program to Print all the valid parentheses combinations for the given number.<br>\n",
    "Input:  n = 2 (number of parenthesis)<br>\n",
    "Output:<br>\n",
    "(())<br>\n",
    "()()\n"
   ]
  },
  {
   "cell_type": "code",
   "execution_count": 1,
   "metadata": {},
   "outputs": [
    {
     "name": "stdout",
     "output_type": "stream",
     "text": [
      "(())\n",
      "()()\n"
     ]
    }
   ],
   "source": [
    "'''TC: O(2n!)'''\n",
    "# from itertools import permutations\n",
    "# r=[]\n",
    "# for i in permutations('()'*int(input())):\n",
    "#     if i[0]!=')' and i[-1]!='(':\n",
    "#         i1=''.join(i)\n",
    "#         while '()' in i1: i1=i1.replace('()','')\n",
    "#         if len(i1)==0: r.append(i)\n",
    "# r=list(set(r))\n",
    "# for i in r: print(''.join(i))\n",
    "'''TC: ~ O(n^4)'''\n",
    "n=int(input())\n",
    "arr = [[\"\"], [\"()\"]]\n",
    "for i in range(2,n+1):\n",
    "    arr.append([])\n",
    "    for j in range(0,i): arr[i] = arr[i] + [\"(\" + a + \")\" + b for a in arr[j] for b in arr[i-1-j]]\n",
    "for i in arr[n]: print(i)"
   ]
  },
  {
   "cell_type": "markdown",
   "metadata": {},
   "source": [
    "The characters in the string should be sorted based on the following conditions.\n",
    "Sort the characters in the string by their frequency of occurrences (the number of times characters have occurred in the string).\n",
    "If the two different characters have the same frequency, these letters should be sorted based on their alphabetical order.<br>\n",
    "Example:<br>\n",
    "Input String:<br>\n",
    "csestack<br>\n",
    "Output String:<br>\n",
    "aektccss\n"
   ]
  },
  {
   "cell_type": "code",
   "execution_count": 10,
   "metadata": {},
   "outputs": [
    {
     "name": "stdout",
     "output_type": "stream",
     "text": [
      "aektccss"
     ]
    }
   ],
   "source": [
    "from collections import Counter\n",
    "x=Counter(sorted(input(),reverse=True))\n",
    "for i,j in x.most_common()[::-1]: print(f'{str(i)*j}',end='')"
   ]
  },
  {
   "cell_type": "markdown",
   "metadata": {},
   "source": [
    "Write a python Program to remove a specific digit from every element of the list<br>\n",
    "Input :  [444, 894, 1948, 24, 2436], K = 4 <br>\n",
    "Output : [”, 89, 198, 2, 236] \n"
   ]
  },
  {
   "cell_type": "code",
   "execution_count": null,
   "metadata": {},
   "outputs": [],
   "source": [
    "l,k=input().split(),input()\n",
    "for i in range(len(l)): l[i]=l[i].replace(k,'')\n",
    "print(l)"
   ]
  },
  {
   "cell_type": "markdown",
   "metadata": {},
   "source": [
    "write a Python program to extract the first character from each word of a given string.<br>\n",
    "Input: Andhra Pradesh<br>\n",
    "Output: AP\n"
   ]
  },
  {
   "cell_type": "code",
   "execution_count": 7,
   "metadata": {},
   "outputs": [
    {
     "name": "stdout",
     "output_type": "stream",
     "text": [
      "AP\n"
     ]
    }
   ],
   "source": [
    "print(''.join([i[0] for i in input().split()]))"
   ]
  },
  {
   "cell_type": "markdown",
   "metadata": {},
   "source": [
    "write a python program to recognize the repetitive characters in the string and capitalize them.<br>\n",
    "Input: programming language<br>\n",
    "Output: pRoGRAMMiNG lANGuAGe\n"
   ]
  },
  {
   "cell_type": "code",
   "execution_count": 6,
   "metadata": {},
   "outputs": [
    {
     "name": "stdout",
     "output_type": "stream",
     "text": [
      "pRoGRAMMiNG lANGuAGe\n"
     ]
    }
   ],
   "source": [
    "x=input()\n",
    "for i in set(x):\n",
    "    if x.count(i)>1: x=x.replace(i,i.upper())\n",
    "print(x)"
   ]
  }
 ],
 "metadata": {
  "interpreter": {
   "hash": "ed162cf3a8df028e1141feffce5e9b3d85b42f355e7fbd6ed8e4624f9522e6ae"
  },
  "kernelspec": {
   "display_name": "Python 3.9.7 64-bit",
   "language": "python",
   "name": "python3"
  },
  "language_info": {
   "codemirror_mode": {
    "name": "ipython",
    "version": 3
   },
   "file_extension": ".py",
   "mimetype": "text/x-python",
   "name": "python",
   "nbconvert_exporter": "python",
   "pygments_lexer": "ipython3",
   "version": "3.9.7"
  },
  "orig_nbformat": 4
 },
 "nbformat": 4,
 "nbformat_minor": 2
}
