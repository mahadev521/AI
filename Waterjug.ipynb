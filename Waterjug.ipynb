{
 "cells": [
  {
   "cell_type": "markdown",
   "metadata": {},
   "source": [
    "# Waterjug problem\n",
    "**for 2 jugs and a goal**"
   ]
  },
  {
   "cell_type": "code",
   "execution_count": 8,
   "metadata": {},
   "outputs": [
    {
     "name": "stdout",
     "output_type": "stream",
     "text": [
      "enter two water jugs capacity space seperated: 7 5\n",
      "enter goal capacity: 1\n",
      "while using Big jug of capacity 7 as filler.......\n",
      "(0,0)\n",
      "  ↓ \n",
      "(7,0)\n",
      "  ↓ \n",
      "(2,5)\n",
      "  ↓ \n",
      "(2,0)\n",
      "  ↓ \n",
      "(0,2)\n",
      "  ↓ \n",
      "(7,2)\n",
      "  ↓ \n",
      "(4,5)\n",
      "  ↓ \n",
      "(4,0)\n",
      "  ↓ \n",
      "(0,4)\n",
      "  ↓ \n",
      "(7,4)\n",
      "  ↓ \n",
      "(6,5)\n",
      "  ↓ \n",
      "(6,0)\n",
      "  ↓ \n",
      "(1,5)\n",
      "it took 12 operations to achieve the goal\n",
      "\n",
      "while using small jug of capacity 5 as filler.......\n",
      "(0,0)\n",
      "  ↓ \n",
      "(0,5)\n",
      "  ↓ \n",
      "(5,0)\n",
      "  ↓ \n",
      "(5,5)\n",
      "  ↓ \n",
      "(7,3)\n",
      "  ↓ \n",
      "(0,3)\n",
      "  ↓ \n",
      "(3,0)\n",
      "  ↓ \n",
      "(3,5)\n",
      "  ↓ \n",
      "(7,1)\n",
      "it took 8 operations to achieve the goal\n",
      "\n"
     ]
    }
   ],
   "source": [
    "def bjug(x,y):\n",
    "    if x==0:return (X,y)\n",
    "    if y<Y and x>abs(X-Y):\n",
    "        if x-(Y-y)<0:\n",
    "            return (0,x)\n",
    "        return (x-(Y-y),Y) \n",
    "    if y==Y:return (x,0)\n",
    "    return (0,x)\n",
    "\n",
    "def sjug(x,y):\n",
    "    if y==0: return(x,Y)\n",
    "    if x<X and y>abs(X-Y):\n",
    "        if x+y>X: return (X,(x+y)-X)\n",
    "        return (x+y,0)\n",
    "    if x==X: return(0,y)\n",
    "    return (y,0)\n",
    "\n",
    "Y,X=sorted([int(x) for x in input('enter two water jugs capacity space seperated: ').split()])\n",
    "goal=int(input('enter goal capacity: '))\n",
    "for i in range(2):\n",
    "    x=y=c=0\n",
    "    l=['(0,0)']\n",
    "    while goal not in (x,y):\n",
    "        x,y=bjug(x,y) if i==0 else sjug(x,y)\n",
    "        l.append(f'({x},{y})')\n",
    "        c+=1\n",
    "    if i==0: print(f'while using Big jug of capacity {X} as filler.......') \n",
    "    else: print(f'while using small jug of capacity {Y} as filler.......')\n",
    "    print('\\n  \\u2193 \\n'.join(l))\n",
    "    print(f'it took {c} operations to achieve the goal\\n')\n",
    "    "
   ]
  }
 ],
 "metadata": {
  "kernelspec": {
   "display_name": "Python 3 (ipykernel)",
   "language": "python",
   "name": "python3"
  },
  "language_info": {
   "codemirror_mode": {
    "name": "ipython",
    "version": 3
   },
   "file_extension": ".py",
   "mimetype": "text/x-python",
   "name": "python",
   "nbconvert_exporter": "python",
   "pygments_lexer": "ipython3",
   "version": "3.9.7"
  }
 },
 "nbformat": 4,
 "nbformat_minor": 4
}
